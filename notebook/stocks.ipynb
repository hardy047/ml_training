{
 "cells": [
  {
   "cell_type": "code",
   "execution_count": 7,
   "metadata": {},
   "outputs": [],
   "source": [
    "import pandas as pd\n",
    "tcs_df = pd.read_csv(\"./data/TCS.csv\", index_col = \"Date\")\n",
    "dlf_df = pd.read_csv(\"./data/DLF.csv\", index_col = \"Date\")"
   ]
  },
  {
   "cell_type": "code",
   "execution_count": 8,
   "metadata": {},
   "outputs": [
    {
     "data": {
      "text/html": [
       "<div>\n",
       "<style scoped>\n",
       "    .dataframe tbody tr th:only-of-type {\n",
       "        vertical-align: middle;\n",
       "    }\n",
       "\n",
       "    .dataframe tbody tr th {\n",
       "        vertical-align: top;\n",
       "    }\n",
       "\n",
       "    .dataframe thead th {\n",
       "        text-align: right;\n",
       "    }\n",
       "</style>\n",
       "<table border=\"1\" class=\"dataframe\">\n",
       "  <thead>\n",
       "    <tr style=\"text-align: right;\">\n",
       "      <th></th>\n",
       "      <th>Open Price</th>\n",
       "      <th>High Price</th>\n",
       "      <th>Low Price</th>\n",
       "      <th>Close Price</th>\n",
       "      <th>WAP</th>\n",
       "      <th>No.of Shares</th>\n",
       "      <th>No. of Trades</th>\n",
       "      <th>Total Turnover (Rs.)</th>\n",
       "      <th>Deliverable Quantity</th>\n",
       "      <th>% Deli. Qty to Traded Qty</th>\n",
       "      <th>Spread High-Low</th>\n",
       "      <th>Spread Close-Open</th>\n",
       "    </tr>\n",
       "    <tr>\n",
       "      <th>Date</th>\n",
       "      <th></th>\n",
       "      <th></th>\n",
       "      <th></th>\n",
       "      <th></th>\n",
       "      <th></th>\n",
       "      <th></th>\n",
       "      <th></th>\n",
       "      <th></th>\n",
       "      <th></th>\n",
       "      <th></th>\n",
       "      <th></th>\n",
       "      <th></th>\n",
       "    </tr>\n",
       "  </thead>\n",
       "  <tbody>\n",
       "    <tr>\n",
       "      <th>14-May-2019</th>\n",
       "      <td>2137.50</td>\n",
       "      <td>2158.2</td>\n",
       "      <td>2074.50</td>\n",
       "      <td>2094.35</td>\n",
       "      <td>2101.132647</td>\n",
       "      <td>107390</td>\n",
       "      <td>6246</td>\n",
       "      <td>225640635.0</td>\n",
       "      <td>28696</td>\n",
       "      <td>26.72</td>\n",
       "      <td>83.70</td>\n",
       "      <td>-43.15</td>\n",
       "    </tr>\n",
       "    <tr>\n",
       "      <th>13-May-2019</th>\n",
       "      <td>2140.00</td>\n",
       "      <td>2167.0</td>\n",
       "      <td>2122.85</td>\n",
       "      <td>2131.10</td>\n",
       "      <td>2137.064735</td>\n",
       "      <td>154027</td>\n",
       "      <td>5231</td>\n",
       "      <td>329165670.0</td>\n",
       "      <td>69558</td>\n",
       "      <td>45.16</td>\n",
       "      <td>44.15</td>\n",
       "      <td>-8.90</td>\n",
       "    </tr>\n",
       "    <tr>\n",
       "      <th>10-May-2019</th>\n",
       "      <td>2174.35</td>\n",
       "      <td>2193.6</td>\n",
       "      <td>2125.00</td>\n",
       "      <td>2135.55</td>\n",
       "      <td>2157.376335</td>\n",
       "      <td>105470</td>\n",
       "      <td>4688</td>\n",
       "      <td>227538482.0</td>\n",
       "      <td>26259</td>\n",
       "      <td>24.90</td>\n",
       "      <td>68.60</td>\n",
       "      <td>-38.80</td>\n",
       "    </tr>\n",
       "    <tr>\n",
       "      <th>9-May-2019</th>\n",
       "      <td>2145.00</td>\n",
       "      <td>2182.0</td>\n",
       "      <td>2138.00</td>\n",
       "      <td>2168.70</td>\n",
       "      <td>2169.785837</td>\n",
       "      <td>80051</td>\n",
       "      <td>4070</td>\n",
       "      <td>173693526.0</td>\n",
       "      <td>24870</td>\n",
       "      <td>31.07</td>\n",
       "      <td>44.00</td>\n",
       "      <td>23.70</td>\n",
       "    </tr>\n",
       "  </tbody>\n",
       "</table>\n",
       "</div>"
      ],
      "text/plain": [
       "             Open Price  High Price  Low Price  Close Price          WAP  \\\n",
       "Date                                                                       \n",
       "14-May-2019     2137.50      2158.2    2074.50      2094.35  2101.132647   \n",
       "13-May-2019     2140.00      2167.0    2122.85      2131.10  2137.064735   \n",
       "10-May-2019     2174.35      2193.6    2125.00      2135.55  2157.376335   \n",
       "9-May-2019      2145.00      2182.0    2138.00      2168.70  2169.785837   \n",
       "\n",
       "             No.of Shares  No. of Trades  Total Turnover (Rs.)  \\\n",
       "Date                                                             \n",
       "14-May-2019        107390           6246           225640635.0   \n",
       "13-May-2019        154027           5231           329165670.0   \n",
       "10-May-2019        105470           4688           227538482.0   \n",
       "9-May-2019          80051           4070           173693526.0   \n",
       "\n",
       "             Deliverable Quantity  % Deli. Qty to Traded Qty  Spread High-Low  \\\n",
       "Date                                                                            \n",
       "14-May-2019                 28696                      26.72            83.70   \n",
       "13-May-2019                 69558                      45.16            44.15   \n",
       "10-May-2019                 26259                      24.90            68.60   \n",
       "9-May-2019                  24870                      31.07            44.00   \n",
       "\n",
       "             Spread Close-Open  \n",
       "Date                            \n",
       "14-May-2019             -43.15  \n",
       "13-May-2019              -8.90  \n",
       "10-May-2019             -38.80  \n",
       "9-May-2019               23.70  "
      ]
     },
     "execution_count": 8,
     "metadata": {},
     "output_type": "execute_result"
    }
   ],
   "source": [
    "tcs_df.head(4)\n"
   ]
  },
  {
   "cell_type": "code",
   "execution_count": 9,
   "metadata": {},
   "outputs": [
    {
     "data": {
      "text/html": [
       "<div>\n",
       "<style scoped>\n",
       "    .dataframe tbody tr th:only-of-type {\n",
       "        vertical-align: middle;\n",
       "    }\n",
       "\n",
       "    .dataframe tbody tr th {\n",
       "        vertical-align: top;\n",
       "    }\n",
       "\n",
       "    .dataframe thead th {\n",
       "        text-align: right;\n",
       "    }\n",
       "</style>\n",
       "<table border=\"1\" class=\"dataframe\">\n",
       "  <thead>\n",
       "    <tr style=\"text-align: right;\">\n",
       "      <th></th>\n",
       "      <th>Open Price</th>\n",
       "      <th>High Price</th>\n",
       "      <th>Low Price</th>\n",
       "      <th>Close Price</th>\n",
       "      <th>WAP</th>\n",
       "      <th>No.of Shares</th>\n",
       "      <th>No. of Trades</th>\n",
       "      <th>Total Turnover (Rs.)</th>\n",
       "      <th>Deliverable Quantity</th>\n",
       "      <th>% Deli. Qty to Traded Qty</th>\n",
       "      <th>Spread High-Low</th>\n",
       "      <th>Spread Close-Open</th>\n",
       "    </tr>\n",
       "    <tr>\n",
       "      <th>Date</th>\n",
       "      <th></th>\n",
       "      <th></th>\n",
       "      <th></th>\n",
       "      <th></th>\n",
       "      <th></th>\n",
       "      <th></th>\n",
       "      <th></th>\n",
       "      <th></th>\n",
       "      <th></th>\n",
       "      <th></th>\n",
       "      <th></th>\n",
       "      <th></th>\n",
       "    </tr>\n",
       "  </thead>\n",
       "  <tbody>\n",
       "    <tr>\n",
       "      <th>14-May-2019</th>\n",
       "      <td>2137.50</td>\n",
       "      <td>2158.2</td>\n",
       "      <td>2074.50</td>\n",
       "      <td>2094.35</td>\n",
       "      <td>2101.132647</td>\n",
       "      <td>107390</td>\n",
       "      <td>6246</td>\n",
       "      <td>225640635.0</td>\n",
       "      <td>28696</td>\n",
       "      <td>26.72</td>\n",
       "      <td>83.70</td>\n",
       "      <td>-43.15</td>\n",
       "    </tr>\n",
       "    <tr>\n",
       "      <th>13-May-2019</th>\n",
       "      <td>2140.00</td>\n",
       "      <td>2167.0</td>\n",
       "      <td>2122.85</td>\n",
       "      <td>2131.10</td>\n",
       "      <td>2137.064735</td>\n",
       "      <td>154027</td>\n",
       "      <td>5231</td>\n",
       "      <td>329165670.0</td>\n",
       "      <td>69558</td>\n",
       "      <td>45.16</td>\n",
       "      <td>44.15</td>\n",
       "      <td>-8.90</td>\n",
       "    </tr>\n",
       "    <tr>\n",
       "      <th>10-May-2019</th>\n",
       "      <td>2174.35</td>\n",
       "      <td>2193.6</td>\n",
       "      <td>2125.00</td>\n",
       "      <td>2135.55</td>\n",
       "      <td>2157.376335</td>\n",
       "      <td>105470</td>\n",
       "      <td>4688</td>\n",
       "      <td>227538482.0</td>\n",
       "      <td>26259</td>\n",
       "      <td>24.90</td>\n",
       "      <td>68.60</td>\n",
       "      <td>-38.80</td>\n",
       "    </tr>\n",
       "    <tr>\n",
       "      <th>9-May-2019</th>\n",
       "      <td>2145.00</td>\n",
       "      <td>2182.0</td>\n",
       "      <td>2138.00</td>\n",
       "      <td>2168.70</td>\n",
       "      <td>2169.785837</td>\n",
       "      <td>80051</td>\n",
       "      <td>4070</td>\n",
       "      <td>173693526.0</td>\n",
       "      <td>24870</td>\n",
       "      <td>31.07</td>\n",
       "      <td>44.00</td>\n",
       "      <td>23.70</td>\n",
       "    </tr>\n",
       "  </tbody>\n",
       "</table>\n",
       "</div>"
      ],
      "text/plain": [
       "             Open Price  High Price  Low Price  Close Price          WAP  \\\n",
       "Date                                                                       \n",
       "14-May-2019     2137.50      2158.2    2074.50      2094.35  2101.132647   \n",
       "13-May-2019     2140.00      2167.0    2122.85      2131.10  2137.064735   \n",
       "10-May-2019     2174.35      2193.6    2125.00      2135.55  2157.376335   \n",
       "9-May-2019      2145.00      2182.0    2138.00      2168.70  2169.785837   \n",
       "\n",
       "             No.of Shares  No. of Trades  Total Turnover (Rs.)  \\\n",
       "Date                                                             \n",
       "14-May-2019        107390           6246           225640635.0   \n",
       "13-May-2019        154027           5231           329165670.0   \n",
       "10-May-2019        105470           4688           227538482.0   \n",
       "9-May-2019          80051           4070           173693526.0   \n",
       "\n",
       "             Deliverable Quantity  % Deli. Qty to Traded Qty  Spread High-Low  \\\n",
       "Date                                                                            \n",
       "14-May-2019                 28696                      26.72            83.70   \n",
       "13-May-2019                 69558                      45.16            44.15   \n",
       "10-May-2019                 26259                      24.90            68.60   \n",
       "9-May-2019                  24870                      31.07            44.00   \n",
       "\n",
       "             Spread Close-Open  \n",
       "Date                            \n",
       "14-May-2019             -43.15  \n",
       "13-May-2019              -8.90  \n",
       "10-May-2019             -38.80  \n",
       "9-May-2019               23.70  "
      ]
     },
     "execution_count": 9,
     "metadata": {},
     "output_type": "execute_result"
    }
   ],
   "source": [
    "tcs_df.head(4)"
   ]
  },
  {
   "cell_type": "code",
   "execution_count": 11,
   "metadata": {},
   "outputs": [
    {
     "name": "stdout",
     "output_type": "stream",
     "text": [
      "<class 'pandas.core.frame.DataFrame'>\n",
      "Index: 522 entries, 14-May-2019 to 3-April-2017\n",
      "Data columns (total 12 columns):\n",
      "Open Price                   522 non-null float64\n",
      "High Price                   522 non-null float64\n",
      "Low Price                    522 non-null float64\n",
      "Close Price                  522 non-null float64\n",
      "WAP                          522 non-null float64\n",
      "No.of Shares                 522 non-null int64\n",
      "No. of Trades                522 non-null int64\n",
      "Total Turnover (Rs.)         522 non-null float64\n",
      "Deliverable Quantity         522 non-null int64\n",
      "% Deli. Qty to Traded Qty    522 non-null float64\n",
      "Spread High-Low              522 non-null float64\n",
      "Spread Close-Open            522 non-null float64\n",
      "dtypes: float64(9), int64(3)\n",
      "memory usage: 53.0+ KB\n"
     ]
    }
   ],
   "source": [
    "tcs_df.info()"
   ]
  },
  {
   "cell_type": "markdown",
   "metadata": {},
   "source": [
    "## Questions\n",
    "1. Which stock has higher risk ?\n",
    "2. If invested 1 lakh, what is the maximum loss that is expected ?\n",
    "3. Which stock has higher probability of making 3% more loss ?\n",
    "4. Which stock has higher probability of making 2% more gain ?\n"
   ]
  },
  {
   "cell_type": "markdown",
   "metadata": {},
   "source": [
    "### Calculating Stock Daily gains\n"
   ]
  },
  {
   "cell_type": "code",
   "execution_count": 12,
   "metadata": {},
   "outputs": [],
   "source": [
    "tcs_df['gain'] = (tcs_df['Close Price'] - tcs_df['Open Price']) * 100/tcs_df['Open Price']"
   ]
  },
  {
   "cell_type": "code",
   "execution_count": 13,
   "metadata": {},
   "outputs": [],
   "source": [
    "dlf_df['gain'] = (dlf_df['Close Price'] - dlf_df['Open Price']) * 100/dlf_df['Open Price']"
   ]
  },
  {
   "cell_type": "code",
   "execution_count": 15,
   "metadata": {},
   "outputs": [],
   "source": [
    "import matplotlib.pyplot as plt\n",
    "import seaborn as sn"
   ]
  },
  {
   "cell_type": "code",
   "execution_count": 19,
   "metadata": {},
   "outputs": [
    {
     "data": {
      "image/png": "[encoded data removed]",
      "text/plain": [
       "<Figure size 432x288 with 1 Axes>"
      ]
     },
     "metadata": {
      "needs_background": "light"
     },
     "output_type": "display_data"
    }
   ],
   "source": [
    "plt.plot(tcs_df.gain);"
   ]
  },
  {
   "cell_type": "code",
   "execution_count": 20,
   "metadata": {},
   "outputs": [
    {
     "data": {
      "image/png": "[encoded data removed]",
      "text/plain": [
       "<Figure size 432x288 with 1 Axes>"
      ]
     },
     "metadata": {
      "needs_background": "light"
     },
     "output_type": "display_data"
    }
   ],
   "source": [
    "plt.plot(dlf_df.gain);"
   ]
  },
  {
   "cell_type": "code",
   "execution_count": 21,
   "metadata": {},
   "outputs": [
    {
     "data": {
      "image/png": "[encoded data removed]",
      "text/plain": [
       "<Figure size 432x288 with 1 Axes>"
      ]
     },
     "metadata": {
      "needs_background": "light"
     },
     "output_type": "display_data"
    }
   ],
   "source": [
    "plt.plot(tcs_df.gain, label=\"tcs\")\n",
    "plt.plot(dlf_df.gain, label=\"dlf\")\n",
    "plt.legend();"
   ]
  },
  {
   "cell_type": "code",
   "execution_count": 23,
   "metadata": {},
   "outputs": [
    {
     "data": {
      "image/png": "[encoded data removed]",
      "text/plain": [
       "<Figure size 432x288 with 1 Axes>"
      ]
     },
     "metadata": {
      "needs_background": "light"
     },
     "output_type": "display_data"
    }
   ],
   "source": [
    "sn.distplot(tcs_df.gain, label=\"tcs\")\n",
    "sn.distplot(dlf_df.gain, label=\"dlf\")\n",
    "plt.legend();"
   ]
  },
  {
   "cell_type": "code",
   "execution_count": 24,
   "metadata": {},
   "outputs": [
    {
     "data": {
      "text/plain": [
       "-0.0020057529759599305"
      ]
     },
     "execution_count": 24,
     "metadata": {},
     "output_type": "execute_result"
    }
   ],
   "source": [
    "tcs_df.gain.mean()\n"
   ]
  },
  {
   "cell_type": "code",
   "execution_count": 28,
   "metadata": {},
   "outputs": [
    {
     "data": {
      "text/plain": [
       "1.3586822205929139"
      ]
     },
     "execution_count": 28,
     "metadata": {},
     "output_type": "execute_result"
    }
   ],
   "source": [
    "tcs_df.gain.std()\n"
   ]
  },
  {
   "cell_type": "code",
   "execution_count": 30,
   "metadata": {},
   "outputs": [
    {
     "data": {
      "text/plain": [
       "-0.022901559826890742"
      ]
     },
     "execution_count": 30,
     "metadata": {},
     "output_type": "execute_result"
    }
   ],
   "source": [
    "dlf_df.gain.mean()"
   ]
  },
  {
   "cell_type": "code",
   "execution_count": 31,
   "metadata": {},
   "outputs": [
    {
     "data": {
      "text/plain": [
       "2.6087724445879696"
      ]
     },
     "execution_count": 31,
     "metadata": {},
     "output_type": "execute_result"
    }
   ],
   "source": [
    "dlf_df.gain.std()"
   ]
  },
  {
   "cell_type": "markdown",
   "metadata": {},
   "source": [
    "### Calculate range for normal distribution, Type of distribution gamma, variance etc"
   ]
  },
  {
   "cell_type": "code",
   "execution_count": 32,
   "metadata": {},
   "outputs": [],
   "source": [
    "from scipy import stats"
   ]
  },
  {
   "cell_type": "code",
   "execution_count": 33,
   "metadata": {},
   "outputs": [
    {
     "data": {
      "text/plain": [
       "(-2.664973971772976, 2.6609624658210564)"
      ]
     },
     "execution_count": 33,
     "metadata": {},
     "output_type": "execute_result"
    }
   ],
   "source": [
    "stats.norm.interval(0.95, tcs_df.gain.mean(),tcs_df.gain.std())"
   ]
  },
  {
   "cell_type": "markdown",
   "metadata": {},
   "source": [
    "## 1.36% chance for make loss of more than 3%"
   ]
  },
  {
   "cell_type": "code",
   "execution_count": 35,
   "metadata": {},
   "outputs": [
    {
     "data": {
      "text/plain": [
       "0.013672911294158624"
      ]
     },
     "execution_count": 35,
     "metadata": {},
     "output_type": "execute_result"
    }
   ],
   "source": [
    "stats.norm.cdf(-3, tcs_df.gain.mean(),tcs_df.gain.std())"
   ]
  },
  {
   "cell_type": "code",
   "execution_count": 36,
   "metadata": {},
   "outputs": [
    {
     "data": {
      "text/plain": [
       "0.12689595757843297"
      ]
     },
     "execution_count": 36,
     "metadata": {},
     "output_type": "execute_result"
    }
   ],
   "source": [
    "stats.norm.cdf(-3, dlf_df.gain.mean(),dlf_df.gain.std())"
   ]
  },
  {
   "cell_type": "markdown",
   "metadata": {},
   "source": [
    "### 7.03 % chance of making more than 2 % gain"
   ]
  },
  {
   "cell_type": "code",
   "execution_count": 39,
   "metadata": {},
   "outputs": [
    {
     "data": {
      "text/plain": [
       "0.07030937129549963"
      ]
     },
     "execution_count": 39,
     "metadata": {},
     "output_type": "execute_result"
    }
   ],
   "source": [
    "1 - stats.norm.cdf(2, tcs_df.gain.mean(),tcs_df.gain.std()) "
   ]
  },
  {
   "cell_type": "code",
   "execution_count": 42,
   "metadata": {},
   "outputs": [
    {
     "data": {
      "text/plain": [
       "0.21904494176859224"
      ]
     },
     "execution_count": 42,
     "metadata": {},
     "output_type": "execute_result"
    }
   ],
   "source": [
    "1 - stats.norm.cdf(2, dlf_df.gain.mean(),dlf_df.gain.std()) "
   ]
  },
  {
   "cell_type": "code",
   "execution_count": null,
   "metadata": {},
   "outputs": [],
   "source": []
  }
 ],
 "metadata": {
  "kernelspec": {
   "display_name": "Python 3",
   "language": "python",
   "name": "python3"
  },
  "language_info": {
   "codemirror_mode": {
    "name": "ipython",
    "version": 3
   },
   "file_extension": ".py",
   "mimetype": "text/x-python",
   "name": "python",
   "nbconvert_exporter": "python",
   "pygments_lexer": "ipython3",
   "version": "3.7.3"
  }
 },
 "nbformat": 4,
 "nbformat_minor": 2
}
